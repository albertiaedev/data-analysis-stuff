{
 "cells": [
  {
   "cell_type": "markdown",
   "id": "256db74a-b941-4bae-9cd6-9eea8c54761d",
   "metadata": {},
   "source": [
    "# Medical Data Visualizer"
   ]
  },
  {
   "cell_type": "code",
   "execution_count": null,
   "id": "af8673fb-d453-49a1-9be2-02057f2a45d4",
   "metadata": {},
   "outputs": [],
   "source": [
    "import pandas as pd\n",
    "import seaborn as sns\n",
    "import matplotlib.pyplot as plt\n",
    "import numpy as np"
   ]
  },
  {
   "cell_type": "code",
   "execution_count": null,
   "id": "fa0bae24-ef51-4699-b3dd-66851bc2af72",
   "metadata": {},
   "outputs": [],
   "source": [
    "df = pd.read_csv(\"medical_examination.csv\")"
   ]
  },
  {
   "cell_type": "code",
   "execution_count": null,
   "id": "9ed895a0-28bb-4be0-a082-9c6cf17addcc",
   "metadata": {},
   "outputs": [],
   "source": [
    "# Calculate Body Mass Index (BMI)\n",
    "df['bmi'] = df['weight'] / (df['height'] / 100) ** 2\n",
    "\n",
    "# Create overweight column based on BMI threshold\n",
    "df['overweight'] = (df['bmi'] > 25).astype(int)"
   ]
  },
  {
   "cell_type": "code",
   "execution_count": null,
   "id": "6d84115d-42f7-433e-b4f8-24527854f11e",
   "metadata": {},
   "outputs": [],
   "source": [
    "# Normalize cholesterol\n",
    "df['cholesterol_norm'] = (df['cholesterol'] <= 1).astype(int)\n",
    "\n",
    "# Normalize gluc\n",
    "df['gluc_norm'] = (df['gluc'] <= 1).astype(int)"
   ]
  },
  {
   "cell_type": "code",
   "execution_count": null,
   "id": "c528c458-189b-46aa-b0b7-b534238f1ed2",
   "metadata": {},
   "outputs": [],
   "source": [
    "# Draw Categorical Plot\n",
    "def draw_cat_plot():\n",
    "    # Create DataFrame for cat plot using `pd.melt` using just the values from 'cholesterol', 'gluc', 'smoke',\n",
    "    # 'alco', 'active', and 'overweight'.\n",
    "    df_cat = pd.melt(df, id_vars=['cardio'],\n",
    "                     value_vars=['cholesterol', 'gluc', 'smoke', 'alco', 'active', 'overweight'])\n",
    "\n",
    "    # Group and reformat the data to split it by 'cardio'. Show the counts of each feature. You will have to rename\n",
    "    # one of the collumns for the catplot to work correctly.\n",
    "    df_cat = df_cat.groupby(['cardio', 'variable', 'value']).size().reset_index()\n",
    "    df_cat = df_cat.rename(columns={0: 'total'})\n",
    "\n",
    "    # Draw the catplot with 'sns.catplot()'\n",
    "    graph = sns.catplot(data=df_cat, kind=\"bar\", x=\"variable\", y=\"total\", hue=\"value\", col=\"cardio\")\n",
    "    fig = graph.fig\n",
    "\n",
    "    # Do not modify the next two lines\n",
    "    fig.savefig('catplot.png')\n",
    "    return fig"
   ]
  },
  {
   "cell_type": "code",
   "execution_count": null,
   "id": "422a326e-d147-4ce1-889f-be38d24c42e1",
   "metadata": {},
   "outputs": [],
   "source": [
    "# Draw Heat Map\n",
    "def draw_heat_map():\n",
    "    # Clean the data\n",
    "    df_heat = df[(df['ap_lo'] <= df['ap_hi']) &\n",
    "                 (df['height'] >= df['height'].quantile(0.025)) &\n",
    "                 (df['height'] <= df['height'].quantile(0.975)) &\n",
    "                 (df['weight'] >= df['weight'].quantile(0.025)) &\n",
    "                 (df['weight'] <= df['weight'].quantile(0.975))\n",
    "                 ]\n",
    "\n",
    "    # Calculate the correlation matrix\n",
    "    corr = df_heat.corr()\n",
    "\n",
    "    # Generate a mask for the upper triangle\n",
    "    mask = np.triu(np.ones_like(corr, dtype=bool))\n",
    "\n",
    "    # Set up the matplotlib figure\n",
    "    fig, ax = plt.subplots(figsize=(16, 9))\n",
    "\n",
    "    # Draw the heatmap with 'sns.heatmap()'\n",
    "    sns.heatmap(corr, mask=mask, square=True, linewidths=0.5, annot=True, fmt=\"0.1f\")\n",
    "\n",
    "    # Do not modify the next two lines\n",
    "    fig.savefig('heatmap.png')\n",
    "    return fig"
   ]
  }
 ],
 "metadata": {
  "kernelspec": {
   "display_name": "Python 3 (ipykernel)",
   "language": "python",
   "name": "python3"
  },
  "language_info": {
   "codemirror_mode": {
    "name": "ipython",
    "version": 3
   },
   "file_extension": ".py",
   "mimetype": "text/x-python",
   "name": "python",
   "nbconvert_exporter": "python",
   "pygments_lexer": "ipython3",
   "version": "3.10.12"
  }
 },
 "nbformat": 4,
 "nbformat_minor": 5
}
