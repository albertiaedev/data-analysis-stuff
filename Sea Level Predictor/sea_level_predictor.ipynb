{
 "cells": [
  {
   "cell_type": "markdown",
   "id": "e877187d-239d-425d-b207-aa7602c88052",
   "metadata": {},
   "source": [
    "# Sea Level Predictor"
   ]
  },
  {
   "cell_type": "code",
   "execution_count": null,
   "id": "57784c03-737b-47b4-a763-cf06eb09cea1",
   "metadata": {},
   "outputs": [],
   "source": [
    "def draw_plot():\n",
    "    # Read data from file\n",
    "    df = pd.read_csv('epa-sea-level.csv')\n",
    "\n",
    "    # Create scatter plot\n",
    "    plt.scatter(df['Year'], df['CSIRO Adjusted Sea Level'])\n",
    "\n",
    "    # Create first line of best fit\n",
    "    lr_1880_2012 = linregress(df['Year'], df['CSIRO Adjusted Sea Level'])\n",
    "    plt.plot(range(1880, 2051, 1), lr_1880_2012.slope * range(1880, 2051, 1) + lr_1880_2012.intercept)\n",
    "\n",
    "    # Create second line of best fit\n",
    "    lr_2000_2012 = linregress(df.query('Year >= 2000')['Year'], \n",
    "                              df.query('Year >= 2000')['CSIRO Adjusted Sea Level'])\n",
    "    plt.plot(range(2000, 2051, 1), lr_2000_2012.slope * range(2000, 2051, 1) + lr_2000_2012.intercept)\n",
    "\n",
    "    # Add labels and title\n",
    "    plt.title('Rise in Sea Level')\n",
    "    plt.ylabel('Sea Level (inches)')\n",
    "    plt.xlabel('Year')\n",
    "    \n",
    "    # Save plot and return data for testing (DO NOT MODIFY)\n",
    "    plt.savefig('sea_level_plot.png')\n",
    "    return plt.gca()\n",
    "\n",
    "draw_plot()"
   ]
  }
 ],
 "metadata": {
  "kernelspec": {
   "display_name": "Python 3 (ipykernel)",
   "language": "python",
   "name": "python3"
  },
  "language_info": {
   "codemirror_mode": {
    "name": "ipython",
    "version": 3
   },
   "file_extension": ".py",
   "mimetype": "text/x-python",
   "name": "python",
   "nbconvert_exporter": "python",
   "pygments_lexer": "ipython3",
   "version": "3.10.12"
  }
 },
 "nbformat": 4,
 "nbformat_minor": 5
}
