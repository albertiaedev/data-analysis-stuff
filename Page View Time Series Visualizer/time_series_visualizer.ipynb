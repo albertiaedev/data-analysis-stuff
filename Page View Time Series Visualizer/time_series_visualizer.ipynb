{
 "cells": [
  {
   "cell_type": "markdown",
   "id": "0b26b70d-cfdb-46ad-b6e6-987a4aae0d40",
   "metadata": {},
   "source": [
    "# Page View Time Series Visualizer"
   ]
  },
  {
   "cell_type": "code",
   "execution_count": null,
   "id": "3f5579f3-efe0-4940-a1f3-242ff964f16f",
   "metadata": {},
   "outputs": [],
   "source": [
    "import matplotlib.pyplot as plt\n",
    "import pandas as pd\n",
    "import seaborn as sns\n",
    "from pandas.plotting import register_matplotlib_converters\n",
    "\n",
    "register_matplotlib_converters()"
   ]
  },
  {
   "cell_type": "code",
   "execution_count": null,
   "id": "435b3ba6-97fe-4765-a42c-36844ceb0e77",
   "metadata": {},
   "outputs": [],
   "source": [
    "# Import data\n",
    "df = pd.read_csv('fcc-forum-pageviews.csv', index_col='date', parse_dates=['date'])"
   ]
  },
  {
   "cell_type": "code",
   "execution_count": null,
   "id": "56c515f7-f746-4261-9950-cb111b3dde24",
   "metadata": {},
   "outputs": [],
   "source": [
    "# Clean data\n",
    "df = df[(df.value > df.value.quantile(0.025)) & (df.value < df.value.quantile(0.975))]"
   ]
  },
  {
   "cell_type": "code",
   "execution_count": null,
   "id": "6a18f6ec-e717-479e-a7fc-075e72bab840",
   "metadata": {},
   "outputs": [],
   "source": [
    "def draw_line_plot():\n",
    "    # Draw line plot\n",
    "\n",
    "    fig = df.plot.line(figsize=(15,5), color='red', legend=False);\n",
    "    plt.title('Daily freeCodeCamp Forum Page Views 5/2016-12/2019');\n",
    "    plt.xlabel('Date');\n",
    "    plt.xticks(rotation = 0)\n",
    "    plt.ylabel('Page Views');\n",
    "\n",
    "    fig = fig.figure\n",
    "    \n",
    "    # Save image and return fig (don't change this part)\n",
    "    fig.savefig('line_plot.png')\n",
    "    return fig\n",
    "\n",
    "draw_line_plot()"
   ]
  },
  {
   "cell_type": "code",
   "execution_count": null,
   "id": "eaed0bba-afd5-489f-b621-c7d4652bc899",
   "metadata": {},
   "outputs": [],
   "source": [
    "def draw_bar_plot():\n",
    "    # Copy and modify data for monthly bar plot\n",
    "    df_bar = df.copy()\n",
    "    df_bar['year'] = df.index.year\n",
    "    df_bar['month'] = df.index.month_name()\n",
    "\n",
    "    # grouping and orgenizing the df\n",
    "    df_bar_group = df_bar.groupby(['year', 'month'])['value'].mean()\n",
    "    df_bar_group = df_bar_group.unstack(level='month')\n",
    "    df_bar_group = df_bar_group[['January', 'February', 'March', 'April', 'May',\n",
    "                                'June', 'July', 'August', 'September', 'October', 'November', 'December']]\n",
    "\n",
    "    # Draw bar plot\n",
    "    fig = df_bar_group.plot.bar(figsize=(7,7)).figure\n",
    "    plt.xlabel('Years');\n",
    "    #plt.xticks(rotation = 0)\n",
    "    plt.ylabel('Average Page Views');\n",
    "    plt.legend(title='Months');\n",
    "\n",
    "    # Save image and return fig (don't change this part)\n",
    "    fig.savefig('bar_plot.png')\n",
    "    return fig\n",
    "\n",
    "draw_bar_plot()"
   ]
  },
  {
   "cell_type": "code",
   "execution_count": null,
   "id": "69d5b90f-ea31-4b47-a167-e49dfdb19bef",
   "metadata": {},
   "outputs": [],
   "source": [
    "def draw_box_plot():\n",
    "    # Prepare data for box plots (this part is done!)\n",
    "    df_box = df.copy()\n",
    "    df_box.reset_index(inplace=True)\n",
    "    df_box['year'] = [d.year for d in df_box.date]\n",
    "    df_box['month'] = [d.strftime('%b') for d in df_box.date]\n",
    "\n",
    "    mon_order = ['Jan', 'Feb', 'Mar', 'Apr', 'May', 'Jun', 'Jul', 'Aug', 'Sep', 'Oct', 'Nov', 'Dec']\n",
    "\n",
    "    # Draw box plots (using Seaborn)\n",
    "    fig, (ax1, ax2) = plt.subplots(1, 2, figsize=(20, 5))\n",
    "    ax1 = sns.boxplot(data=df_box, x='year', y='value', ax=ax1)\n",
    "    ax2 = sns.boxplot(data=df_box, x='month', y='value', ax=ax2, order=mon_order);\n",
    "    ax1.set_ylabel('Page Views')\n",
    "    ax1.set_xlabel('Year')\n",
    "    ax1.set_title('Year-wise Box Plot (Trend)')\n",
    "    ax2.set_ylabel('Page Views')\n",
    "    ax2.set_xlabel('Month')\n",
    "    ax2.set_title('Month-wise Box Plot (Seasonality)')\n",
    "\n",
    "    # Save image and return fig (don't change this part)\n",
    "    fig.savefig('box_plot.png')\n",
    "    return fig\n",
    "\n",
    "draw_box_plot()"
   ]
  }
 ],
 "metadata": {
  "kernelspec": {
   "display_name": "Python 3 (ipykernel)",
   "language": "python",
   "name": "python3"
  },
  "language_info": {
   "codemirror_mode": {
    "name": "ipython",
    "version": 3
   },
   "file_extension": ".py",
   "mimetype": "text/x-python",
   "name": "python",
   "nbconvert_exporter": "python",
   "pygments_lexer": "ipython3",
   "version": "3.10.12"
  }
 },
 "nbformat": 4,
 "nbformat_minor": 5
}
