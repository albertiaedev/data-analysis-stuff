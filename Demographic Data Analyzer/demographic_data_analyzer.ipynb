{
 "cells": [
  {
   "cell_type": "markdown",
   "id": "d8a5d11d-725e-488e-82e2-190c4b862cf9",
   "metadata": {},
   "source": [
    "# Demographic Data Analyzer"
   ]
  },
  {
   "cell_type": "code",
   "execution_count": 1,
   "id": "4e760aa4-9785-4afd-bfa9-f7ab8c6e47c3",
   "metadata": {},
   "outputs": [
    {
     "name": "stderr",
     "output_type": "stream",
     "text": [
      "/tmp/ipykernel_5190/4080736814.py:1: DeprecationWarning: \n",
      "Pyarrow will become a required dependency of pandas in the next major release of pandas (pandas 3.0),\n",
      "(to allow more performant data types, such as the Arrow string type, and better interoperability with other libraries)\n",
      "but was not found to be installed on your system.\n",
      "If this would cause problems for you,\n",
      "please provide us feedback at https://github.com/pandas-dev/pandas/issues/54466\n",
      "        \n",
      "  import pandas as pd\n"
     ]
    }
   ],
   "source": [
    "import pandas as pd"
   ]
  },
  {
   "cell_type": "code",
   "execution_count": 2,
   "id": "de356745-3f63-4bf2-b9f8-c6bfb35581c0",
   "metadata": {},
   "outputs": [],
   "source": [
    "def calculate_demographic_data(print_data=True):\n",
    "    # Read data from file\n",
    "    df = pd.read_csv(\"adult.data.csv\")\n",
    "\n",
    "    # How many of each race are represented in this dataset? This should be a Pandas series with race names as the index labels.\n",
    "    race_count = df[\"race\"].value_counts()\n",
    "\n",
    "    # What is the average age of men?\n",
    "    average_age_men = df[df[\"sex\"] == \"Male\"][\"age\"].mean().round(1)\n",
    "\n",
    "    # What is the percentage of people who have a Bachelor's degree?\n",
    "    bachelors_count = df[df[\"education\"] == \"Bachelors\"].shape[0]\n",
    "    percentage_bachelors = (bachelors_count / len(df)) * 100\n",
    "\n",
    "    # What percentage of people with advanced education (`Bachelors`, `Masters`, or `Doctorate`) make more than 50K?\n",
    "    # What percentage of people without advanced education make more than 50K?\n",
    "\n",
    "    # with and without `Bachelors`, `Masters`, or `Doctorate`\n",
    "    higher_education = df[df[\"education\"].isin([\"Bachelors\", \"Masters\", \"Doctorate\"])]\n",
    "    lower_education = df[~df[\"education\"].isin([\"Bachelors\", \"Masters\", \"Doctorate\"])]\n",
    "\n",
    "    # percentage with salary >50K\n",
    "    higher_education_rich = (higher_education[\"salary\"] == \">50K\").sum() / len(higher_education) * 100\n",
    "    lower_education_rich = (lower_education[\"salary\"] == \">50K\").sum() / len(lower_education) * 100\n",
    "\n",
    "    # What is the minimum number of hours a person works per week (hours-per-week feature)?\n",
    "    min_work_hours = df[\"hours-per-week\"].min()\n",
    "\n",
    "    # What percentage of the people who work the minimum number of hours per week have a salary of >50K?\n",
    "    num_min_workers = df[df[\"hours-per-week\"] == min_work_hours]\n",
    "\n",
    "    rich_percentage = (num_min_workers[\"salary\"] == \">50K\").sum() / len(num_min_workers) * 100\n",
    "\n",
    "    # What country has the highest percentage of people that earn >50K?\n",
    "    countries_over_50k = (df[\"salary\"] == \">50K\").groupby(df[\"native-country\"]).mean() * 100\n",
    "    highest_earning_country = countries_over_50k.idxmax()\n",
    "    highest_earning_country_percentage = countries_over_50k.max().round(1)\n",
    "\n",
    "    # Identify the most popular occupation for those who earn >50K in India.\n",
    "    occupations_over_50k = df[(df[\"salary\"] == \">50K\") & (df[\"native-country\"] == \"India\")]\n",
    "    top_IN_occupation = occupations_over_50k[\"occupation\"].mode()[0]\n",
    "\n",
    "\n",
    "    return {\n",
    "        'race_count': race_count,\n",
    "        'average_age_men': average_age_men,\n",
    "        'percentage_bachelors': percentage_bachelors,\n",
    "        'higher_education_rich': higher_education_rich,\n",
    "        'lower_education_rich': lower_education_rich,\n",
    "        'min_work_hours': min_work_hours,\n",
    "        'rich_percentage': rich_percentage,\n",
    "        'highest_earning_country': highest_earning_country,\n",
    "        'highest_earning_country_percentage':\n",
    "        highest_earning_country_percentage,\n",
    "        'top_IN_occupation': top_IN_occupation\n",
    "    }"
   ]
  }
 ],
 "metadata": {
  "kernelspec": {
   "display_name": "Python 3 (ipykernel)",
   "language": "python",
   "name": "python3"
  },
  "language_info": {
   "codemirror_mode": {
    "name": "ipython",
    "version": 3
   },
   "file_extension": ".py",
   "mimetype": "text/x-python",
   "name": "python",
   "nbconvert_exporter": "python",
   "pygments_lexer": "ipython3",
   "version": "3.10.12"
  }
 },
 "nbformat": 4,
 "nbformat_minor": 5
}
