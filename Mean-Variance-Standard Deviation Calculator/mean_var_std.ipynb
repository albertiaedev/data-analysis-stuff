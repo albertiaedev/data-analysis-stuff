{
 "cells": [
  {
   "cell_type": "markdown",
   "id": "669de5af-25af-4765-83ef-2f1a7ed70df2",
   "metadata": {},
   "source": [
    "# Mean-Variance-Standard Deviation Calculator"
   ]
  },
  {
   "cell_type": "code",
   "execution_count": 1,
   "id": "026cc057-2d52-4208-9063-706a4b72dd71",
   "metadata": {},
   "outputs": [],
   "source": [
    "import numpy as np"
   ]
  },
  {
   "cell_type": "code",
   "execution_count": 2,
   "id": "f404d02a-89e5-4638-b193-e9a74973fb1f",
   "metadata": {},
   "outputs": [],
   "source": [
    "def calculate(list):\n",
    "    if len(list) != 9:\n",
    "        raise ValueError(\"List must contain nine numbers.\")\n",
    "\n",
    "    # Reshape the list into a 3x3 NumPy array\n",
    "    arr = np.array(list).reshape(3, 3)\n",
    "\n",
    "    # Calculate statistics\n",
    "    calculations = {\n",
    "        'mean': [arr.mean(axis=0).tolist(), arr.mean(axis=1).tolist(), arr.mean().tolist()],\n",
    "        'variance': [arr.var(axis=0).tolist(), arr.var(axis=1).tolist(), arr.var().tolist()],\n",
    "        'standard deviation': [arr.std(axis=0).tolist(), arr.std(axis=1).tolist(), arr.std().tolist()],\n",
    "        'max': [arr.max(axis=0).tolist(), arr.max(axis=1).tolist(), arr.max().tolist()],\n",
    "        'min': [arr.min(axis=0).tolist(), arr.min(axis=1).tolist(), arr.min().tolist()],\n",
    "        'sum': [arr.sum(axis=0).tolist(), arr.sum(axis=1).tolist(), arr.sum().tolist()]\n",
    "    }\n",
    "\n",
    "    # Convert only NumPy arrays to lists\n",
    "    for key, value in calculations.items():\n",
    "        for i in range(len(value)):\n",
    "            if isinstance(value[i], np.ndarray):\n",
    "                calculations[key][i] = value[i].tolist()\n",
    "\n",
    "    return calculations"
   ]
  }
 ],
 "metadata": {
  "kernelspec": {
   "display_name": "Python 3 (ipykernel)",
   "language": "python",
   "name": "python3"
  },
  "language_info": {
   "codemirror_mode": {
    "name": "ipython",
    "version": 3
   },
   "file_extension": ".py",
   "mimetype": "text/x-python",
   "name": "python",
   "nbconvert_exporter": "python",
   "pygments_lexer": "ipython3",
   "version": "3.10.12"
  }
 },
 "nbformat": 4,
 "nbformat_minor": 5
}
